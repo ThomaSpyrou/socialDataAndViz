{
 "cells": [
  {
   "cell_type": "markdown",
   "id": "45e2ad57",
   "metadata": {},
   "source": [
    "### Final Project Notebook: Amazon Rainforest wildfires and deforestation analysis"
   ]
  },
  {
   "cell_type": "markdown",
   "id": "29419ba7",
   "metadata": {},
   "source": [
    " <img src=\"https://cnr.ncsu.edu/news/wp-content/uploads/sites/10/2021/11/11182021-amazon-deforestation-istock-facebook.jpg\" alt=\"amazon\" width=\"650\" height=\"250\"> "
   ]
  },
  {
   "cell_type": "markdown",
   "id": "0ee196d4",
   "metadata": {},
   "source": [
    "#### 1. Motivation"
   ]
  },
  {
   "cell_type": "markdown",
   "id": "7ecb62e2",
   "metadata": {},
   "source": [
    "*What is your dataset?*\n",
    "\n",
    "*Why did you choose this/these particular dataset(s)?*\n",
    "\n",
    "*What was your goal for the end user's experience?*"
   ]
  },
  {
   "cell_type": "code",
   "execution_count": 4,
   "id": "cdb16f00",
   "metadata": {},
   "outputs": [],
   "source": [
    "# modules\n",
    "import numpy as np\n",
    "import pandas as pd\n",
    "import matplotlib.pyplot as plt\n",
    "import seaborn as sns\n",
    "import re\n",
    "import collections as coll"
   ]
  },
  {
   "cell_type": "markdown",
   "id": "c9c37028",
   "metadata": {},
   "source": [
    "#### 2. Basic stats"
   ]
  },
  {
   "cell_type": "markdown",
   "id": "b889d28a",
   "metadata": {},
   "source": [
    "*Write about your choices in data cleaning and preprocessing.*\n",
    "\n",
    "*Write a short section that discusses the dataset stats, containing key points/plots from your exploratory data analysis.*"
   ]
  },
  {
   "cell_type": "markdown",
   "id": "6300999f",
   "metadata": {},
   "source": [
    "#### 3. Data Analysis"
   ]
  },
  {
   "cell_type": "markdown",
   "id": "1a2b51a5",
   "metadata": {},
   "source": [
    "*Describe your data analysis and explain what you've learned about the dataset. If relevant, talk about your machine-learning.*"
   ]
  },
  {
   "cell_type": "markdown",
   "id": "9d8bee84",
   "metadata": {},
   "source": [
    "#### 4. Genre"
   ]
  },
  {
   "cell_type": "markdown",
   "id": "f34a3479",
   "metadata": {},
   "source": [
    "*Which genre of data story did you use?*\n",
    "\n",
    "*Which tools did you use from each of the 3 categories of Visual Narrative (Figure 7 in Segal and Heer). Why?*\n",
    "\n",
    "*Which tools did you use from each of the 3 categories of Narrative Structure (Figure 7 in Segal and Heer). Why?*"
   ]
  },
  {
   "cell_type": "markdown",
   "id": "47634755",
   "metadata": {},
   "source": [
    "#### 5. Visualizations"
   ]
  },
  {
   "cell_type": "markdown",
   "id": "af147a06",
   "metadata": {},
   "source": [
    "*Explain the visualizations you've chosen.*\n",
    "\n",
    "\n",
    "*Why are they right for the story you want to tell?*"
   ]
  },
  {
   "cell_type": "markdown",
   "id": "98e4fde5",
   "metadata": {},
   "source": [
    "#### 6. Discussion"
   ]
  },
  {
   "cell_type": "markdown",
   "id": "8c77f6dd",
   "metadata": {},
   "source": [
    "*What went well?*\n",
    "\n",
    "*What is still missing? What could be improved? Why?*"
   ]
  },
  {
   "cell_type": "markdown",
   "id": "551c2cde",
   "metadata": {},
   "source": [
    "#### 7. Contribution"
   ]
  },
  {
   "cell_type": "code",
   "execution_count": 5,
   "id": "a30a0d70",
   "metadata": {},
   "outputs": [
    {
     "data": {
      "text/html": [
       "<div>\n",
       "<style scoped>\n",
       "    .dataframe tbody tr th:only-of-type {\n",
       "        vertical-align: middle;\n",
       "    }\n",
       "\n",
       "    .dataframe tbody tr th {\n",
       "        vertical-align: top;\n",
       "    }\n",
       "\n",
       "    .dataframe thead th {\n",
       "        text-align: right;\n",
       "    }\n",
       "</style>\n",
       "<table border=\"1\" class=\"dataframe\">\n",
       "  <thead>\n",
       "    <tr style=\"text-align: right;\">\n",
       "      <th></th>\n",
       "      <th>MELINA SISKOU</th>\n",
       "      <th>ALEXANDRA POLYM</th>\n",
       "      <th>THOMAS SPYROU</th>\n",
       "    </tr>\n",
       "  </thead>\n",
       "  <tbody>\n",
       "    <tr>\n",
       "      <th>2</th>\n",
       "      <td></td>\n",
       "      <td></td>\n",
       "      <td>:)</td>\n",
       "    </tr>\n",
       "    <tr>\n",
       "      <th>3.1</th>\n",
       "      <td></td>\n",
       "      <td></td>\n",
       "      <td>:)</td>\n",
       "    </tr>\n",
       "    <tr>\n",
       "      <th>3.2</th>\n",
       "      <td>:)</td>\n",
       "      <td></td>\n",
       "      <td></td>\n",
       "    </tr>\n",
       "    <tr>\n",
       "      <th>3.3</th>\n",
       "      <td>:)</td>\n",
       "      <td></td>\n",
       "      <td></td>\n",
       "    </tr>\n",
       "    <tr>\n",
       "      <th>3.4</th>\n",
       "      <td>:)</td>\n",
       "      <td></td>\n",
       "      <td></td>\n",
       "    </tr>\n",
       "    <tr>\n",
       "      <th>3.5</th>\n",
       "      <td>:)</td>\n",
       "      <td></td>\n",
       "      <td></td>\n",
       "    </tr>\n",
       "    <tr>\n",
       "      <th>3.6</th>\n",
       "      <td>:)</td>\n",
       "      <td></td>\n",
       "      <td></td>\n",
       "    </tr>\n",
       "    <tr>\n",
       "      <th>3.7</th>\n",
       "      <td></td>\n",
       "      <td>:)</td>\n",
       "      <td></td>\n",
       "    </tr>\n",
       "    <tr>\n",
       "      <th>3.8</th>\n",
       "      <td></td>\n",
       "      <td>:)</td>\n",
       "      <td></td>\n",
       "    </tr>\n",
       "    <tr>\n",
       "      <th>3.9</th>\n",
       "      <td></td>\n",
       "      <td>:)</td>\n",
       "      <td></td>\n",
       "    </tr>\n",
       "  </tbody>\n",
       "</table>\n",
       "</div>"
      ],
      "text/plain": [
       "    MELINA SISKOU ALEXANDRA POLYM THOMAS SPYROU\n",
       "2                                            :)\n",
       "3.1                                          :)\n",
       "3.2            :)                              \n",
       "3.3            :)                              \n",
       "3.4            :)                              \n",
       "3.5            :)                              \n",
       "3.6            :)                              \n",
       "3.7                            :)              \n",
       "3.8                            :)              \n",
       "3.9                            :)              "
      ]
     },
     "execution_count": 5,
     "metadata": {},
     "output_type": "execute_result"
    }
   ],
   "source": [
    "d = {'MELINA SISKOU' : ['', '', ':)', ':)', ':)', ':)', ':)', '', '', ''], \n",
    "     'ALEXANDRA POLYM' : ['', '', '', '', '', '', '', ':)', ':)', ':)'],\n",
    "     'THOMAS SPYROU' : [':)', ':)', '', '', '', '', '', '', '', '']\n",
    "     } \n",
    "  \n",
    "# sections    \n",
    "ct = pd.DataFrame(d, index=['2', '3.1', '3.2', '3.3', '3.4', '3.5', '3.6', '3.7', '3.8', '3.9']) \n",
    "\n",
    "ct\n",
    "# POLYM A.K.A POLYMENOPOULOU s212558\n",
    "# Melina Siskou s213158 \n",
    "# Thomas Spyrou s213161"
   ]
  }
 ],
 "metadata": {
  "kernelspec": {
   "display_name": "Python 3 (ipykernel)",
   "language": "python",
   "name": "python3"
  },
  "language_info": {
   "codemirror_mode": {
    "name": "ipython",
    "version": 3
   },
   "file_extension": ".py",
   "mimetype": "text/x-python",
   "name": "python",
   "nbconvert_exporter": "python",
   "pygments_lexer": "ipython3",
   "version": "3.8.10"
  }
 },
 "nbformat": 4,
 "nbformat_minor": 5
}
